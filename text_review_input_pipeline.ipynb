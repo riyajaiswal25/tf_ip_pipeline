{
 "cells": [
  {
   "cell_type": "code",
   "execution_count": 1,
   "id": "686c5b3d",
   "metadata": {},
   "outputs": [],
   "source": [
    "import tensorflow as tf"
   ]
  },
  {
   "cell_type": "code",
   "execution_count": 2,
   "id": "5c7f6c28",
   "metadata": {},
   "outputs": [
    {
     "name": "stdout",
     "output_type": "stream",
     "text": [
      "<bound method _EagerTensorBase.numpy of <tf.Tensor: shape=(), dtype=string, numpy=b'reviews\\\\negative\\\\neg_1.txt'>>\n",
      "<bound method _EagerTensorBase.numpy of <tf.Tensor: shape=(), dtype=string, numpy=b'reviews\\\\negative\\\\neg_2.txt'>>\n",
      "<bound method _EagerTensorBase.numpy of <tf.Tensor: shape=(), dtype=string, numpy=b'reviews\\\\negative\\\\neg_3.txt'>>\n"
     ]
    }
   ],
   "source": [
    "text_ds = tf.data.Dataset.list_files('reviews/*/*',shuffle=False)\n",
    "\n",
    "for file in text_ds.take(3):\n",
    "    print(file.numpy)"
   ]
  },
  {
   "cell_type": "code",
   "execution_count": 3,
   "id": "46c24c04",
   "metadata": {},
   "outputs": [
    {
     "name": "stdout",
     "output_type": "stream",
     "text": [
      "b'reviews\\\\positive\\\\pos_3.txt'\n",
      "b'reviews\\\\negative\\\\neg_1.txt'\n",
      "b'reviews\\\\negative\\\\neg_2.txt'\n"
     ]
    }
   ],
   "source": [
    "text_ds = text_ds.shuffle(200)\n",
    "\n",
    "for file in text_ds.take(3):\n",
    "    print(file.numpy())"
   ]
  },
  {
   "cell_type": "code",
   "execution_count": 4,
   "id": "c9f420e8",
   "metadata": {},
   "outputs": [],
   "source": [
    "class_names = [\"Positive\",\"Negative\"]"
   ]
  },
  {
   "cell_type": "code",
   "execution_count": 5,
   "id": "fa3ae8ae",
   "metadata": {},
   "outputs": [
    {
     "data": {
      "text/plain": [
       "6"
      ]
     },
     "execution_count": 5,
     "metadata": {},
     "output_type": "execute_result"
    }
   ],
   "source": [
    "text_count = len(text_ds)\n",
    "text_count"
   ]
  },
  {
   "cell_type": "code",
   "execution_count": 9,
   "id": "32b011ae",
   "metadata": {},
   "outputs": [],
   "source": [
    "import os\n",
    "def extract_review_label(file_path):\n",
    "    return tf.io.read_file(file_path), tf.strings.split(file_path, os.path.sep)[-2]"
   ]
  },
  {
   "cell_type": "code",
   "execution_count": 10,
   "id": "966a73ee",
   "metadata": {},
   "outputs": [
    {
     "name": "stdout",
     "output_type": "stream",
     "text": [
      "Review:  b''\n",
      "Label:  b'positive'\n",
      "Review:  b'This show was an amazing, fresh & innovative idea '\n",
      "Label:  b'negative'\n",
      "Review:  b'One of the other reviewers has mentioned that afte'\n",
      "Label:  b'positive'\n",
      "Review:  b''\n",
      "Label:  b'negative'\n",
      "Review:  b'A wonderful little production. <br /><br />The fil'\n",
      "Label:  b'positive'\n",
      "Review:  b\"Basically there's a family where a little boy (Jak\"\n",
      "Label:  b'negative'\n"
     ]
    }
   ],
   "source": [
    "reviews_ds = text_ds.map(extract_review_label)\n",
    "for review, label in reviews_ds:\n",
    "    print(\"Review: \",review.numpy()[:50])\n",
    "    print(\"Label: \",label.numpy())"
   ]
  },
  {
   "cell_type": "code",
   "execution_count": 11,
   "id": "8d8f7ba5",
   "metadata": {},
   "outputs": [
    {
     "name": "stdout",
     "output_type": "stream",
     "text": [
      "WARNING:tensorflow:From C:\\Users\\riyaj\\anaconda3\\lib\\site-packages\\tensorflow\\python\\autograph\\pyct\\static_analysis\\liveness.py:83: Analyzer.lamba_check (from tensorflow.python.autograph.pyct.static_analysis.liveness) is deprecated and will be removed after 2023-09-23.\n",
      "Instructions for updating:\n",
      "Lambda fuctions will be no more assumed to be used in the statement where they are used, or at least in the same block. https://github.com/tensorflow/tensorflow/issues/56089\n",
      "Review:  b'This show was an amazing, fresh & innovative idea '\n",
      "Label:  b'negative'\n",
      "Review:  b\"Basically there's a family where a little boy (Jak\"\n",
      "Label:  b'negative'\n",
      "Review:  b'A wonderful little production. <br /><br />The fil'\n",
      "Label:  b'positive'\n",
      "Review:  b'One of the other reviewers has mentioned that afte'\n",
      "Label:  b'positive'\n"
     ]
    }
   ],
   "source": [
    "reviews_ds_2 = reviews_ds.filter(lambda review, label: review!=\"\")\n",
    "for review, label in reviews_ds_2.as_numpy_iterator():\n",
    "    print(\"Review: \",review[:50])\n",
    "    print(\"Label: \",label)"
   ]
  },
  {
   "cell_type": "code",
   "execution_count": 7,
   "id": "23d35761",
   "metadata": {},
   "outputs": [
    {
     "data": {
      "text/plain": [
       "4"
      ]
     },
     "execution_count": 7,
     "metadata": {},
     "output_type": "execute_result"
    }
   ],
   "source": []
  },
  {
   "cell_type": "code",
   "execution_count": 8,
   "id": "33de70e6",
   "metadata": {},
   "outputs": [
    {
     "data": {
      "text/plain": [
       "2"
      ]
     },
     "execution_count": 8,
     "metadata": {},
     "output_type": "execute_result"
    }
   ],
   "source": []
  },
  {
   "cell_type": "code",
   "execution_count": null,
   "id": "bbc0cf3c",
   "metadata": {},
   "outputs": [],
   "source": []
  }
 ],
 "metadata": {
  "kernelspec": {
   "display_name": "Python 3 (ipykernel)",
   "language": "python",
   "name": "python3"
  },
  "language_info": {
   "codemirror_mode": {
    "name": "ipython",
    "version": 3
   },
   "file_extension": ".py",
   "mimetype": "text/x-python",
   "name": "python",
   "nbconvert_exporter": "python",
   "pygments_lexer": "ipython3",
   "version": "3.9.12"
  }
 },
 "nbformat": 4,
 "nbformat_minor": 5
}
