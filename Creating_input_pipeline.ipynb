{
 "cells": [
  {
   "cell_type": "code",
   "execution_count": 2,
   "id": "6d6a44d5",
   "metadata": {},
   "outputs": [],
   "source": [
    "import tensorflow as tf"
   ]
  },
  {
   "cell_type": "code",
   "execution_count": 3,
   "id": "03776379",
   "metadata": {},
   "outputs": [],
   "source": [
    "daily_sales_numbers = [21, 22, -108, 31, -1, 32, 34, 31]"
   ]
  },
  {
   "cell_type": "code",
   "execution_count": 4,
   "id": "27f9608b",
   "metadata": {},
   "outputs": [
    {
     "data": {
      "text/plain": [
       "<TensorSliceDataset element_spec=TensorSpec(shape=(), dtype=tf.int32, name=None)>"
      ]
     },
     "execution_count": 4,
     "metadata": {},
     "output_type": "execute_result"
    }
   ],
   "source": [
    "tf_dataset = tf.data.Dataset.from_tensor_slices(daily_sales_numbers)\n",
    "tf_dataset"
   ]
  },
  {
   "cell_type": "code",
   "execution_count": 5,
   "id": "d70fce88",
   "metadata": {},
   "outputs": [
    {
     "name": "stdout",
     "output_type": "stream",
     "text": [
      "tf.Tensor(21, shape=(), dtype=int32)\n",
      "tf.Tensor(22, shape=(), dtype=int32)\n",
      "tf.Tensor(-108, shape=(), dtype=int32)\n",
      "tf.Tensor(31, shape=(), dtype=int32)\n",
      "tf.Tensor(-1, shape=(), dtype=int32)\n",
      "tf.Tensor(32, shape=(), dtype=int32)\n",
      "tf.Tensor(34, shape=(), dtype=int32)\n",
      "tf.Tensor(31, shape=(), dtype=int32)\n"
     ]
    }
   ],
   "source": [
    "for sales in tf_dataset:\n",
    "    print(sales)  #tensor object"
   ]
  },
  {
   "cell_type": "code",
   "execution_count": 6,
   "id": "bd35b6c9",
   "metadata": {},
   "outputs": [
    {
     "name": "stdout",
     "output_type": "stream",
     "text": [
      "21\n",
      "22\n",
      "-108\n",
      "31\n",
      "-1\n",
      "32\n",
      "34\n",
      "31\n"
     ]
    }
   ],
   "source": [
    "for sales in tf_dataset:\n",
    "    print(sales.numpy()) #numpy object"
   ]
  },
  {
   "cell_type": "code",
   "execution_count": 7,
   "id": "5528e8a9",
   "metadata": {},
   "outputs": [
    {
     "name": "stdout",
     "output_type": "stream",
     "text": [
      "21\n",
      "22\n",
      "-108\n",
      "31\n",
      "-1\n",
      "32\n",
      "34\n",
      "31\n"
     ]
    }
   ],
   "source": [
    "for sales in tf_dataset.as_numpy_iterator():\n",
    "    print(sales) #also numpy object"
   ]
  },
  {
   "cell_type": "code",
   "execution_count": 8,
   "id": "ae40a700",
   "metadata": {},
   "outputs": [
    {
     "name": "stdout",
     "output_type": "stream",
     "text": [
      "21\n",
      "22\n",
      "-108\n"
     ]
    }
   ],
   "source": [
    "for sales in tf_dataset.take(3): #Prints first three elements\n",
    "    print(sales.numpy())"
   ]
  },
  {
   "cell_type": "code",
   "execution_count": 9,
   "id": "df2fac19",
   "metadata": {},
   "outputs": [
    {
     "name": "stdout",
     "output_type": "stream",
     "text": [
      "WARNING:tensorflow:From C:\\Users\\riyaj\\anaconda3\\lib\\site-packages\\tensorflow\\python\\autograph\\pyct\\static_analysis\\liveness.py:83: Analyzer.lamba_check (from tensorflow.python.autograph.pyct.static_analysis.liveness) is deprecated and will be removed after 2023-09-23.\n",
      "Instructions for updating:\n",
      "Lambda fuctions will be no more assumed to be used in the statement where they are used, or at least in the same block. https://github.com/tensorflow/tensorflow/issues/56089\n",
      "21\n",
      "22\n",
      "31\n",
      "32\n",
      "34\n",
      "31\n"
     ]
    }
   ],
   "source": [
    "tf_dataset = tf_dataset.filter(lambda x:x>0) #Eliminating negative values\n",
    "for sales in tf_dataset.as_numpy_iterator():\n",
    "    print(sales)"
   ]
  },
  {
   "cell_type": "code",
   "execution_count": 10,
   "id": "9e7c496e",
   "metadata": {},
   "outputs": [
    {
     "name": "stdout",
     "output_type": "stream",
     "text": [
      "1512\n",
      "1584\n",
      "2232\n",
      "2304\n",
      "2448\n",
      "2232\n"
     ]
    }
   ],
   "source": [
    "tf_dataset = tf_dataset.map(lambda x:x*72) #for manipulation of all the data\n",
    "for sales in tf_dataset.as_numpy_iterator():\n",
    "    print(sales)"
   ]
  },
  {
   "cell_type": "code",
   "execution_count": 11,
   "id": "3a13dccf",
   "metadata": {},
   "outputs": [
    {
     "name": "stdout",
     "output_type": "stream",
     "text": [
      "1584\n",
      "2232\n",
      "2304\n",
      "1512\n",
      "2448\n",
      "2232\n"
     ]
    }
   ],
   "source": [
    "tf_dataset = tf_dataset.shuffle(2) #buffer size = 2, creates window size of 2\n",
    "for sales in tf_dataset.as_numpy_iterator():\n",
    "    print(sales)"
   ]
  },
  {
   "cell_type": "code",
   "execution_count": 12,
   "id": "24103cd4",
   "metadata": {},
   "outputs": [
    {
     "name": "stdout",
     "output_type": "stream",
     "text": [
      "[1584 1512 2232]\n",
      "[2304 2232 2448]\n"
     ]
    }
   ],
   "source": [
    "for sales_batch in tf_dataset.batch(3): #divides dataset into batches\n",
    "    print(sales_batch.numpy())"
   ]
  },
  {
   "cell_type": "code",
   "execution_count": 13,
   "id": "d7898ecd",
   "metadata": {},
   "outputs": [
    {
     "name": "stdout",
     "output_type": "stream",
     "text": [
      "[1584 2232]\n",
      "[1512 2304]\n",
      "[2448 2232]\n"
     ]
    }
   ],
   "source": [
    "tf_dataset = tf.data.Dataset.from_tensor_slices(daily_sales_numbers)\n",
    "tf_dataset = tf_dataset.filter(lambda x: x>0).map(lambda y:y*72).shuffle(2).batch(2)\n",
    "\n",
    "for sales in tf_dataset.as_numpy_iterator():\n",
    "    print(sales)"
   ]
  },
  {
   "cell_type": "code",
   "execution_count": 14,
   "id": "70afb9be",
   "metadata": {},
   "outputs": [
    {
     "name": "stdout",
     "output_type": "stream",
     "text": [
      "<bound method _EagerTensorBase.numpy of <tf.Tensor: shape=(), dtype=string, numpy=b'PetImages\\\\Cat\\\\0.jpg'>>\n",
      "<bound method _EagerTensorBase.numpy of <tf.Tensor: shape=(), dtype=string, numpy=b'PetImages\\\\Cat\\\\1.jpg'>>\n",
      "<bound method _EagerTensorBase.numpy of <tf.Tensor: shape=(), dtype=string, numpy=b'PetImages\\\\Cat\\\\10.jpg'>>\n"
     ]
    }
   ],
   "source": [
    "images_ds = tf.data.Dataset.list_files('PetImages/*/*',shuffle=False)\n",
    "\n",
    "for file in images_ds.take(3):\n",
    "    print(file.numpy) #reads images path"
   ]
  },
  {
   "cell_type": "code",
   "execution_count": 15,
   "id": "a742c349",
   "metadata": {},
   "outputs": [
    {
     "name": "stdout",
     "output_type": "stream",
     "text": [
      "b'PetImages\\\\Cat\\\\10152.jpg'\n",
      "b'PetImages\\\\Cat\\\\10177.jpg'\n",
      "b'PetImages\\\\Cat\\\\1013.jpg'\n"
     ]
    }
   ],
   "source": [
    "images_ds = images_ds.shuffle(200)\n",
    "\n",
    "for file in images_ds.take(3):\n",
    "    print(file.numpy())"
   ]
  },
  {
   "cell_type": "code",
   "execution_count": 16,
   "id": "880e3f56",
   "metadata": {},
   "outputs": [],
   "source": [
    "class_names = [\"cat\",\"dog\"] #specifiying different classes"
   ]
  },
  {
   "cell_type": "code",
   "execution_count": 17,
   "id": "370a9a0d",
   "metadata": {},
   "outputs": [
    {
     "data": {
      "text/plain": [
       "18335"
      ]
     },
     "execution_count": 17,
     "metadata": {},
     "output_type": "execute_result"
    }
   ],
   "source": [
    "image_count = len(images_ds)\n",
    "image_count"
   ]
  },
  {
   "cell_type": "code",
   "execution_count": 31,
   "id": "ec1a0ff8",
   "metadata": {},
   "outputs": [
    {
     "name": "stdout",
     "output_type": "stream",
     "text": [
      "b'PetImages\\\\Cat\\\\10073.jpg'\n",
      "b'PetImages\\\\Cat\\\\10066.jpg'\n",
      "b'PetImages\\\\Cat\\\\10201.jpg'\n"
     ]
    }
   ],
   "source": [
    "images_ds = images_ds.shuffle(200)\n",
    "for file in images_ds.take(3):\n",
    "    print(file.numpy())"
   ]
  },
  {
   "cell_type": "code",
   "execution_count": 18,
   "id": "561bacc0",
   "metadata": {},
   "outputs": [],
   "source": [
    "train_size = int(image_count*0.8) # Seggregating 80% of data for training\n",
    "\n",
    "train_ds = images_ds.take(train_size)\n",
    "test_ds = images_ds.skip(train_size)"
   ]
  },
  {
   "cell_type": "code",
   "execution_count": 19,
   "id": "0b3d1de0",
   "metadata": {},
   "outputs": [
    {
     "data": {
      "text/plain": [
       "14668"
      ]
     },
     "execution_count": 19,
     "metadata": {},
     "output_type": "execute_result"
    }
   ],
   "source": [
    "len(train_ds)"
   ]
  },
  {
   "cell_type": "code",
   "execution_count": 20,
   "id": "bcb34c44",
   "metadata": {},
   "outputs": [
    {
     "data": {
      "text/plain": [
       "3667"
      ]
     },
     "execution_count": 20,
     "metadata": {},
     "output_type": "execute_result"
    }
   ],
   "source": [
    "len(test_ds)"
   ]
  },
  {
   "cell_type": "code",
   "execution_count": 32,
   "id": "960ba907",
   "metadata": {},
   "outputs": [],
   "source": [
    "def get_label(file_path):\n",
    "    import os\n",
    "    parts = tf.strings.split(file_path, os.path.sep) #Gives the class of the image\n",
    "    return parts[-2]"
   ]
  },
  {
   "cell_type": "code",
   "execution_count": 25,
   "id": "4b3f2f8f",
   "metadata": {},
   "outputs": [],
   "source": [
    "def process_image(file_path):\n",
    "    label = get_label(file_path)\n",
    "    \n",
    "    img = tf.io.read_file(file_path)\n",
    "    img = tf.image.decode_jpeg(img)\n",
    "    img = tf.image.resize(img, [128,128])\n",
    "    \n",
    "    return img, label"
   ]
  },
  {
   "cell_type": "code",
   "execution_count": 23,
   "id": "6c467367",
   "metadata": {},
   "outputs": [
    {
     "name": "stdout",
     "output_type": "stream",
     "text": [
      "b'PetImages\\\\Cat\\\\10081.jpg'\n",
      "b'PetImages\\\\Cat\\\\10020.jpg'\n",
      "b'PetImages\\\\Cat\\\\10018.jpg'\n",
      "b'PetImages\\\\Cat\\\\10169.jpg'\n"
     ]
    }
   ],
   "source": [
    "for t in train_ds.take(4):\n",
    "    print(t.numpy())"
   ]
  },
  {
   "cell_type": "code",
   "execution_count": 28,
   "id": "76b44690",
   "metadata": {},
   "outputs": [
    {
     "name": "stdout",
     "output_type": "stream",
     "text": [
      "tf.Tensor(\n",
      "[[[ 70.39276   63.39276   70.39276 ]\n",
      "  [ 68.98578   61.98578   68.98578 ]\n",
      "  [ 68.32135   61.32135   68.32135 ]\n",
      "  ...\n",
      "  [ 70.841675  98.841675 122.841675]\n",
      "  [ 74.84485  102.84485  126.84485 ]\n",
      "  [ 84.73297  111.73297  132.73297 ]]\n",
      "\n",
      " [[ 75.4389    68.4389    75.4389  ]\n",
      "  [ 71.08563   64.08563   71.08563 ]\n",
      "  [ 72.        65.        72.      ]\n",
      "  ...\n",
      "  [ 68.46796   96.46796  118.46796 ]\n",
      "  [ 78.309204 106.309204 128.3092  ]\n",
      "  [ 82.177185 109.177185 130.17719 ]]\n",
      "\n",
      " [[ 75.79193   68.79193   75.79193 ]\n",
      "  [ 72.80859   65.80859   72.80859 ]\n",
      "  [ 71.540344  64.540344  71.540344]\n",
      "  ...\n",
      "  [ 75.65631  103.65631  124.65631 ]\n",
      "  [ 76.77112  104.77112  125.77112 ]\n",
      "  [ 81.86041  108.86041  129.86041 ]]\n",
      "\n",
      " ...\n",
      "\n",
      " [[ 73.497925  93.404175 109.310425]\n",
      "  [ 71.74304   93.46179  110.82117 ]\n",
      "  [ 67.55463   91.08588  109.61713 ]\n",
      "  ...\n",
      "  [ 82.51422  104.51422  118.51422 ]\n",
      "  [ 84.25696  106.25696  120.25696 ]\n",
      "  [ 77.294556 100.56409  114.025024]]\n",
      "\n",
      " [[ 77.65375   97.56     113.46625 ]\n",
      "  [ 75.52344   97.24219  114.60156 ]\n",
      "  [ 69.76251   93.29376  111.82501 ]\n",
      "  ...\n",
      "  [ 71.84607   93.84607  107.84607 ]\n",
      "  [ 65.93298   87.93298  101.93298 ]\n",
      "  [ 64.76172   90.76172  105.76172 ]]\n",
      "\n",
      " [[ 73.58026   94.9787   111.362915]\n",
      "  [ 66.14844   88.82312  105.70453 ]\n",
      "  [ 62.19818   87.37317  105.35651 ]\n",
      "  ...\n",
      "  [ 67.41199   89.41199  103.41199 ]\n",
      "  [ 64.92749   86.92749  100.92749 ]\n",
      "  [ 64.11505   90.11505  105.11505 ]]], shape=(128, 128, 3), dtype=float32)\n",
      "tf.Tensor(b'Cat', shape=(), dtype=string)\n",
      "tf.Tensor(\n",
      "[[[169.       165.       136.      ]\n",
      "  [169.       165.       136.      ]\n",
      "  [169.       165.       136.      ]\n",
      "  ...\n",
      "  [247.02563  247.02563  247.02563 ]\n",
      "  [249.68262  249.68262  249.68262 ]\n",
      "  [250.       250.       250.      ]]\n",
      "\n",
      " [[166.       162.       133.      ]\n",
      "  [166.       162.       133.      ]\n",
      "  [166.       162.       133.      ]\n",
      "  ...\n",
      "  [249.03687  249.03687  249.03687 ]\n",
      "  [251.06201  251.06201  251.06201 ]\n",
      "  [250.       250.       250.      ]]\n",
      "\n",
      " [[164.       160.       131.      ]\n",
      "  [164.       160.       131.      ]\n",
      "  [164.       160.       131.      ]\n",
      "  ...\n",
      "  [250.92822  250.92822  250.92822 ]\n",
      "  [248.78613  248.78613  248.78613 ]\n",
      "  [246.8623   246.8623   246.8623  ]]\n",
      "\n",
      " ...\n",
      "\n",
      " [[110.734375 113.734375  96.734375]\n",
      "  [113.02124  116.02124   99.02124 ]\n",
      "  [114.71875  117.71875  100.71875 ]\n",
      "  ...\n",
      "  [ 91.511475  88.042725  63.573975]\n",
      "  [ 61.96704   58.49829   34.02954 ]\n",
      "  [ 57.03125   53.5625    29.09375 ]]\n",
      "\n",
      " [[116.640625 119.640625 102.640625]\n",
      "  [118.42163  121.42163  104.42163 ]\n",
      "  [120.625    123.625    106.625   ]\n",
      "  ...\n",
      "  [180.52441  174.16504  143.24316 ]\n",
      "  [195.10742  188.74805  157.82617 ]\n",
      "  [198.       191.64062  160.71875 ]]\n",
      "\n",
      " [[125.       125.       101.      ]\n",
      "  [125.       125.       101.      ]\n",
      "  [125.       125.       101.      ]\n",
      "  ...\n",
      "  [226.98438  226.98438  198.98438 ]\n",
      "  [226.       226.       198.      ]\n",
      "  [226.       226.       198.      ]]], shape=(128, 128, 3), dtype=float32)\n",
      "tf.Tensor(b'Cat', shape=(), dtype=string)\n",
      "tf.Tensor(\n",
      "[[[117.038574  91.61621   72.8833  ]\n",
      "  [117.873535  92.27344   74.07373 ]\n",
      "  [120.61963   94.66406   77.53076 ]\n",
      "  ...\n",
      "  [250.77881  249.65869  248.23682 ]\n",
      "  [247.81543  250.00781  247.14844 ]\n",
      "  [243.57666  251.02295  248.60107 ]]\n",
      "\n",
      " [[118.42969   94.26709   70.376465]\n",
      "  [122.20752   97.828125  74.4375  ]\n",
      "  [120.25879   95.4458    73.055176]\n",
      "  ...\n",
      "  [191.77246  210.60986  205.30371 ]\n",
      "  [193.72998  212.59717  209.12842 ]\n",
      "  [192.99219  215.37646  210.46875 ]]\n",
      "\n",
      " [[119.12256   94.01318   68.56787 ]\n",
      "  [124.493164  99.38379   73.93848 ]\n",
      "  [119.75635   94.64697   69.20166 ]\n",
      "  ...\n",
      "  [206.48193  219.33252  224.06592 ]\n",
      "  [206.78174  221.49951  229.00879 ]\n",
      "  [207.45557  224.7915   234.67432 ]]\n",
      "\n",
      " ...\n",
      "\n",
      " [[161.75     123.93506   91.46924 ]\n",
      "  [165.20264  129.82666   93.592285]\n",
      "  [169.61377  135.72314   96.05908 ]\n",
      "  ...\n",
      "  [135.54004   92.93945   75.842285]\n",
      "  [128.16992   92.17236   76.007324]\n",
      "  [125.683105  95.563965  74.49121 ]]\n",
      "\n",
      " [[180.07031  139.07031  107.07031 ]\n",
      "  [185.38281  148.07031  114.50781 ]\n",
      "  [186.37354  150.37354  114.373535]\n",
      "  ...\n",
      "  [164.22656  131.6875    87.86719 ]\n",
      "  [154.91748  125.828125  87.7334  ]\n",
      "  [162.28906  127.95459   87.07178 ]]\n",
      "\n",
      " [[188.65674  147.65674  115.65674 ]\n",
      "  [190.17188  152.85938  119.296875]\n",
      "  [190.90137  154.90137  118.90137 ]\n",
      "  ...\n",
      "  [195.73486  163.67236  116.79736 ]\n",
      "  [189.17188  160.17188  118.171875]\n",
      "  [205.68701  169.43701  125.24951 ]]], shape=(128, 128, 3), dtype=float32)\n",
      "tf.Tensor(b'Cat', shape=(), dtype=string)\n"
     ]
    }
   ],
   "source": [
    "for img, label in train_ds.map(process_image).take(3): #contains label\n",
    "    print(img)\n",
    "    print(label)"
   ]
  },
  {
   "cell_type": "code",
   "execution_count": 29,
   "id": "8fec275d",
   "metadata": {},
   "outputs": [],
   "source": [
    "def scale(image, label):\n",
    "    return image/255, label"
   ]
  },
  {
   "cell_type": "code",
   "execution_count": 33,
   "id": "89fd3a3e",
   "metadata": {},
   "outputs": [],
   "source": [
    "train_ds = train_ds.map(process_image)\n",
    "test_ds = test_ds.map(process_image)"
   ]
  },
  {
   "cell_type": "code",
   "execution_count": 34,
   "id": "6c7ac10e",
   "metadata": {},
   "outputs": [
    {
     "name": "stdout",
     "output_type": "stream",
     "text": [
      "***Image:  tf.Tensor(\n",
      "[[[216.       157.        63.      ]\n",
      "  [215.46094  156.46094   62.460938]\n",
      "  [217.56833  158.56833   64.56833 ]\n",
      "  ...\n",
      "  [179.3887   165.18558  142.3848  ]\n",
      "  [167.46399  153.46399  127.46399 ]\n",
      "  [172.49417  158.49417  132.49417 ]]\n",
      "\n",
      " [[215.       156.        62.      ]\n",
      "  [214.51953  155.51953   61.51953 ]\n",
      "  [216.50577  157.50577   63.505768]\n",
      "  ...\n",
      "  [170.65775  156.57758  133.40793 ]\n",
      "  [170.2597   156.2597   130.2597  ]\n",
      "  [173.6272   159.6272   133.6272  ]]\n",
      "\n",
      " [[215.69531  156.69531   62.695312]\n",
      "  [215.69531  156.69531   62.695312]\n",
      "  [217.69531  158.69531   64.69531 ]\n",
      "  ...\n",
      "  [169.1124   155.66528  130.59647 ]\n",
      "  [167.27289  153.27289  127.27289 ]\n",
      "  [180.35956  166.35956  140.35956 ]]\n",
      "\n",
      " ...\n",
      "\n",
      " [[156.11725  119.11725   64.11725 ]\n",
      "  [148.4295   111.429504  56.429504]\n",
      "  [153.98047  116.98047   61.98047 ]\n",
      "  ...\n",
      "  [186.37885  170.57806  147.9765  ]\n",
      "  [174.0238   158.0238   135.0238  ]\n",
      "  [181.25775  165.25775  142.25775 ]]\n",
      "\n",
      " [[151.01205  114.012054  59.012054]\n",
      "  [148.51038  111.510376  56.510376]\n",
      "  [148.09729  111.09729   56.09729 ]\n",
      "  ...\n",
      "  [175.97018  160.1694   137.56784 ]\n",
      "  [182.29666  166.29666  143.29666 ]\n",
      "  [187.6914   171.53125  149.01172 ]]\n",
      "\n",
      " [[151.48007  114.48007   59.480072]\n",
      "  [151.50153  114.501526  59.501526]\n",
      "  [154.13864  117.13864   62.13864 ]\n",
      "  ...\n",
      "  [185.87476  170.07397  147.28876 ]\n",
      "  [184.12076  168.12076  145.12076 ]\n",
      "  [187.48206  171.3219   148.80237 ]]], shape=(128, 128, 3), dtype=float32)\n",
      "***Label:  tf.Tensor(b'Cat', shape=(), dtype=string)\n"
     ]
    }
   ],
   "source": [
    "for image, label in train_ds.take(1):\n",
    "    print(\"***Image: \",image)\n",
    "    print(\"***Label: \",label)"
   ]
  },
  {
   "cell_type": "code",
   "execution_count": 35,
   "id": "92b22c4f",
   "metadata": {},
   "outputs": [],
   "source": [
    "train_ds = train_ds.map(scale)"
   ]
  },
  {
   "cell_type": "code",
   "execution_count": 36,
   "id": "e79d2bdd",
   "metadata": {},
   "outputs": [
    {
     "name": "stdout",
     "output_type": "stream",
     "text": [
      "***Image:  [0.42745098 0.3254902  0.03529412]\n",
      "***Label:  b'Cat'\n",
      "***Image:  [0.5028646 0.5028646 0.4636489]\n",
      "***Label:  b'Cat'\n",
      "***Image:  [0.29803923 0.3019608  0.2784314 ]\n",
      "***Label:  b'Cat'\n",
      "***Image:  [0.32349494 0.3462278  0.48213083]\n",
      "***Label:  b'Cat'\n",
      "***Image:  [0.14650735 0.15042892 0.12689951]\n",
      "***Label:  b'Cat'\n"
     ]
    }
   ],
   "source": [
    "for image, label in train_ds.take(5):\n",
    "    print(\"***Image: \",image.numpy()[0][0])\n",
    "    print(\"***Label: \",label.numpy())"
   ]
  },
  {
   "cell_type": "code",
   "execution_count": null,
   "id": "4e40f285",
   "metadata": {},
   "outputs": [],
   "source": []
  }
 ],
 "metadata": {
  "kernelspec": {
   "display_name": "Python 3 (ipykernel)",
   "language": "python",
   "name": "python3"
  },
  "language_info": {
   "codemirror_mode": {
    "name": "ipython",
    "version": 3
   },
   "file_extension": ".py",
   "mimetype": "text/x-python",
   "name": "python",
   "nbconvert_exporter": "python",
   "pygments_lexer": "ipython3",
   "version": "3.9.12"
  }
 },
 "nbformat": 4,
 "nbformat_minor": 5
}
